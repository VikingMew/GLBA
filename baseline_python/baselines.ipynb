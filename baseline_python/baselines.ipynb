{
 "cells": [
  {
   "cell_type": "code",
   "execution_count": 1,
   "metadata": {
    "collapsed": false
   },
   "outputs": [],
   "source": [
    "import pandas as pd\n",
    "import numpy as np\n",
    "import dawid_skene"
   ]
  },
  {
   "cell_type": "code",
   "execution_count": 2,
   "metadata": {
    "collapsed": false
   },
   "outputs": [],
   "source": [
    "data=pd.read_csv('../filter_four.csv', names = ['pid','uid','valence','arousal','dominance','likeness'],\n",
    "                dtype = {'pid':int, 'uid':int, 'valence':float, 'arousal':float, 'dominance': float, 'likeness': float});"
   ]
  },
  {
   "cell_type": "code",
   "execution_count": 3,
   "metadata": {
    "collapsed": false
   },
   "outputs": [
    {
     "name": "stdout",
     "output_type": "stream",
     "text": [
      "num Patients: 11038\n",
      "num Observers: 2039\n",
      "Classes: [0, 1, 2]\n",
      "Iter\tlog-likelihood\tdelta-CM\tdelta-ER\n",
      "1 \t -27217.5544346\n",
      "2 \t -26193.1691093 \t0.007736\t0.043228\n",
      "3 \t -25688.3651392 \t0.005456\t0.027763\n",
      "4 \t -25409.8297565 \t0.004670\t0.018197\n",
      "5 \t -25250.3856284 \t0.003809\t0.012182\n",
      "6 \t -25152.7125935 \t0.003050\t0.008547\n",
      "7 \t -25089.4783771 \t0.002495\t0.006226\n",
      "8 \t -25047.5857018 \t0.002059\t0.004712\n",
      "9 \t -25018.4112592 \t0.001687\t0.003607\n",
      "10 \t -24997.1663861 \t0.001378\t0.002837\n",
      "11 \t -24981.3527397 \t0.001132\t0.002308\n",
      "12 \t -24968.9002452 \t0.000938\t0.002059\n",
      "13 \t -24958.7408219 \t0.000795\t0.001858\n",
      "14 \t -24949.9325339 \t0.000684\t0.001500\n",
      "15 \t -24942.2209173 \t0.000611\t0.001366\n",
      "16 \t -24936.363393 \t0.000514\t0.001119\n",
      "17 \t -24931.1309876 \t0.000426\t0.001094\n",
      "18 \t -24926.4297184 \t0.000363\t0.000918\n",
      "19 \t -24921.914819 \t0.000312\t0.000893\n",
      "20 \t -24917.8925583 \t0.000280\t0.000952\n",
      "21 \t -24915.0719548 \t0.000259\t0.000720\n",
      "22 \t -24912.9394542 \t0.000227\t0.000579\n",
      "23 \t -24911.1980346 \t0.000198\t0.000582\n",
      "24 \t -24909.7903282 \t0.000176\t0.000435\n",
      "25 \t -24908.3896028 \t0.000161\t0.000401\n",
      "26 \t -24906.7479697 \t0.000153\t0.000405\n",
      "27 \t -24904.7773074 \t0.000147\t0.000581\n",
      "28 \t -24902.5839537 \t0.000143\t0.000499\n",
      "29 \t -24900.8191005 \t0.000153\t0.000476\n",
      "30 \t -24899.5388764 \t0.000139\t0.000389\n",
      "31 \t -24898.4224921 \t0.000131\t0.000379\n",
      "32 \t -24897.15319 \t0.000130\t0.000283\n",
      "33 \t -24895.7132948 \t0.000136\t0.000276\n",
      "34 \t -24894.3225506 \t0.000135\t0.000486\n",
      "35 \t -24893.1001764 \t0.000130\t0.000254\n",
      "36 \t -24892.151597 \t0.000125\t0.000234\n",
      "37 \t -24891.490653 \t0.000114\t0.000212\n",
      "38 \t -24891.0013932 \t0.000098\t0.000193\n",
      "39 \t -24890.5796644 \t0.000082\t0.000178\n",
      "40 \t -24890.1756314 \t0.000069\t0.000169\n",
      "41 \t -24889.7661698 \t0.000062\t0.000217\n",
      "42 \t -24889.3360361 \t0.000056\t0.000158\n",
      "43 \t -24888.8723219 \t0.000053\t0.000265\n",
      "44 \t -24888.3661071 \t0.000050\t0.000155\n",
      "45 \t -24887.8154154 \t0.000049\t0.000155\n",
      "46 \t -24887.2239144 \t0.000049\t0.000156\n",
      "47 \t -24886.5973146 \t0.000049\t0.000158\n",
      "48 \t -24885.9425286 \t0.000050\t0.000159\n",
      "49 \t -24885.2630647 \t0.000053\t0.000160\n",
      "50 \t -24884.5492499 \t0.000056\t0.000159\n",
      "51 \t -24883.7861535 \t0.000057\t0.000248\n",
      "52 \t -24883.0585378 \t0.000056\t0.000219\n",
      "53 \t -24882.4522466 \t0.000053\t0.000151\n",
      "54 \t -24881.8444271 \t0.000048\t0.000206\n",
      "55 \t -24881.2783559 \t0.000040\t0.000147\n",
      "56 \t -24880.8927519 \t0.000033\t0.000124\n",
      "57 \t -24880.6047146 \t0.000033\t0.000164\n",
      "58 \t -24880.314866 \t0.000033\t0.000162\n",
      "59 \t -24880.0177211 \t0.000034\t0.000107\n",
      "60 \t -24879.7126945 \t0.000036\t0.000162\n",
      "61 \t -24879.3895316 \t0.000037\t0.000108\n",
      "62 \t -24879.0311688 \t0.000038\t0.000108\n",
      "63 \t -24878.639677 \t0.000038\t0.000107\n",
      "64 \t -24878.2757914 \t0.000036\t0.000158\n",
      "65 \t -24878.005805 \t0.000029\t0.000097\n"
     ]
    }
   ],
   "source": [
    "def category_map(x):\n",
    "    if x<3.5:\n",
    "        return 0\n",
    "    elif x>=3.5 and x<=4.5:\n",
    "        return 1\n",
    "    else :\n",
    "        return 2\n",
    "\n",
    "for attribute in ['valence']:\n",
    "    data['mapped_category']=data[attribute].map(category_map)\n",
    "    data_dict=dict(data.groupby(['pid']).apply(lambda x: dict(x[['uid','mapped_category']].apply(lambda e: (e[0],[e[1]]), axis =1).values)))\n",
    "    (patients, observers, _, _, class_marginals, error_rates, _) = dawid_skene.run(data_dict)\n",
    "    accuracy=dict()\n",
    "    for uid, confusion_matrix in zip(observers, error_rates):\n",
    "        accuracy[uid] = np.dot(class_marginals, np.diag(confusion_matrix))            "
   ]
  },
  {
   "cell_type": "code",
   "execution_count": null,
   "metadata": {
    "collapsed": false
   },
   "outputs": [],
   "source": []
  },
  {
   "cell_type": "code",
   "execution_count": null,
   "metadata": {
    "collapsed": false
   },
   "outputs": [],
   "source": []
  },
  {
   "cell_type": "code",
   "execution_count": 4,
   "metadata": {
    "collapsed": false
   },
   "outputs": [],
   "source": [
    "spammers=set(np.loadtxt('../spammers.txt', dtype='int'))\n",
    "labels = [x in spammers for x in accuracy.keys()]\n",
    "predictions = [1-accuracy[x] for x in accuracy.keys()]"
   ]
  },
  {
   "cell_type": "code",
   "execution_count": 5,
   "metadata": {
    "collapsed": false
   },
   "outputs": [
    {
     "data": {
      "text/plain": [
       "<matplotlib.text.Text at 0x1183859b0>"
      ]
     },
     "execution_count": 5,
     "metadata": {},
     "output_type": "execute_result"
    },
    {
     "data": {
      "image/png": "[encoded data removed]",
      "text/plain": [
       "<matplotlib.figure.Figure at 0x104166be0>"
      ]
     },
     "metadata": {},
     "output_type": "display_data"
    }
   ],
   "source": [
    "from sklearn.metrics import precision_recall_curve \n",
    "import matplotlib.pyplot as plt\n",
    "%matplotlib inline\n",
    "precision, recall, _ = precision_recall_curve(labels, predictions)\n",
    "plt.clf()\n",
    "plt.plot(recall, precision, color='navy',\n",
    "         label='Precision-Recall curve')\n",
    "plt.xlabel('Recall')\n",
    "plt.ylabel('Precision')"
   ]
  },
  {
   "cell_type": "code",
   "execution_count": 6,
   "metadata": {
    "collapsed": false
   },
   "outputs": [],
   "source": [
    "ds_acc = pd.DataFrame()\n",
    "ds_acc['acc']=predictions\n",
    "ds_acc['uid']=accuracy.keys()\n",
    "ds_acc.to_csv('DS_acc.csv', index=False)"
   ]
  },
  {
   "cell_type": "code",
   "execution_count": null,
   "metadata": {
    "collapsed": false
   },
   "outputs": [],
   "source": []
  },
  {
   "cell_type": "code",
   "execution_count": null,
   "metadata": {
    "collapsed": false
   },
   "outputs": [],
   "source": []
  },
  {
   "cell_type": "code",
   "execution_count": null,
   "metadata": {
    "collapsed": true
   },
   "outputs": [],
   "source": []
  }
 ],
 "metadata": {
  "anaconda-cloud": {},
  "kernelspec": {
   "display_name": "Python [Root]",
   "language": "python",
   "name": "Python [Root]"
  },
  "language_info": {
   "codemirror_mode": {
    "name": "ipython",
    "version": 3
   },
   "file_extension": ".py",
   "mimetype": "text/x-python",
   "name": "python",
   "nbconvert_exporter": "python",
   "pygments_lexer": "ipython3",
   "version": "3.5.2"
  }
 },
 "nbformat": 4,
 "nbformat_minor": 0
}
